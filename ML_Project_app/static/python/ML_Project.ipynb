{
  "nbformat": 4,
  "nbformat_minor": 0,
  "metadata": {
    "colab": {
      "name": "ML Project.ipynb",
      "provenance": [],
      "collapsed_sections": [],
      "authorship_tag": "ABX9TyP9k+M/7cXGSzQmupOmGfhq",
      "include_colab_link": true
    },
    "kernelspec": {
      "name": "python3",
      "display_name": "Python 3"
    }
  },
  "cells": [
    {
      "cell_type": "markdown",
      "metadata": {
        "id": "view-in-github",
        "colab_type": "text"
      },
      "source": [
        "<a href=\"https://colab.research.google.com/github/dayothompson/ML_Project/blob/working_branch/ML_Project.ipynb\" target=\"_parent\"><img src=\"https://colab.research.google.com/assets/colab-badge.svg\" alt=\"Open In Colab\"/></a>"
      ]
    },
    {
      "cell_type": "code",
      "metadata": {
        "id": "DSrM0YAdvppr"
      },
      "source": [
        "import pandas as pd\n",
        "import numpy as np\n",
        "import matplotlib.pyplot as plt\n",
        "import seaborn as sns\n",
        "import math\n",
        "%matplotlib inline\n",
        "import warnings\n",
        "warnings.filterwarnings(\"ignore\")"
      ],
      "execution_count": 1,
      "outputs": []
    },
    {
      "cell_type": "code",
      "metadata": {
        "id": "lqc8RaeUv3G0",
        "outputId": "820331da-9f6a-4493-884e-da4fd25e55ad",
        "colab": {
          "base_uri": "https://localhost:8080/",
          "height": 204
        }
      },
      "source": [
        "house_info = pd.read_csv(\"https://dayotestdb.s3.us-east-2.amazonaws.com/calgary_listings-1-100.csv\")\n",
        "house_info.head()"
      ],
      "execution_count": 2,
      "outputs": [
        {
          "output_type": "execute_result",
          "data": {
            "text/html": [
              "<div>\n",
              "<style scoped>\n",
              "    .dataframe tbody tr th:only-of-type {\n",
              "        vertical-align: middle;\n",
              "    }\n",
              "\n",
              "    .dataframe tbody tr th {\n",
              "        vertical-align: top;\n",
              "    }\n",
              "\n",
              "    .dataframe thead th {\n",
              "        text-align: right;\n",
              "    }\n",
              "</style>\n",
              "<table border=\"1\" class=\"dataframe\">\n",
              "  <thead>\n",
              "    <tr style=\"text-align: right;\">\n",
              "      <th></th>\n",
              "      <th>price</th>\n",
              "      <th>postal_code</th>\n",
              "      <th>address</th>\n",
              "      <th>bed</th>\n",
              "      <th>full_bath</th>\n",
              "      <th>half_bath</th>\n",
              "      <th>property_area</th>\n",
              "      <th>property_type</th>\n",
              "      <th>latitude</th>\n",
              "      <th>longitude</th>\n",
              "      <th>year_built</th>\n",
              "      <th>years_old</th>\n",
              "      <th>distance_downtown</th>\n",
              "      <th>monthly_payments</th>\n",
              "    </tr>\n",
              "  </thead>\n",
              "  <tbody>\n",
              "    <tr>\n",
              "      <th>0</th>\n",
              "      <td>334786</td>\n",
              "      <td>T3J1K5</td>\n",
              "      <td>116 FALTON WAY NE</td>\n",
              "      <td>3.0</td>\n",
              "      <td>1.0</td>\n",
              "      <td>1.0</td>\n",
              "      <td>1179.0</td>\n",
              "      <td>house</td>\n",
              "      <td>51.102699</td>\n",
              "      <td>-113.942978</td>\n",
              "      <td>1980.0</td>\n",
              "      <td>40.0</td>\n",
              "      <td>11.182732</td>\n",
              "      <td>1447.65</td>\n",
              "    </tr>\n",
              "    <tr>\n",
              "      <th>1</th>\n",
              "      <td>469900</td>\n",
              "      <td>T2Z0R3</td>\n",
              "      <td>239 COPPERPOND BAY SE</td>\n",
              "      <td>3.0</td>\n",
              "      <td>2.0</td>\n",
              "      <td>1.0</td>\n",
              "      <td>2136.0</td>\n",
              "      <td>house</td>\n",
              "      <td>50.919753</td>\n",
              "      <td>-113.921865</td>\n",
              "      <td>2011.0</td>\n",
              "      <td>9.0</td>\n",
              "      <td>17.531322</td>\n",
              "      <td>2031.91</td>\n",
              "    </tr>\n",
              "    <tr>\n",
              "      <th>2</th>\n",
              "      <td>585000</td>\n",
              "      <td>T3B5X8</td>\n",
              "      <td>25 CRESTHAVEN WAY SW</td>\n",
              "      <td>3.0</td>\n",
              "      <td>2.0</td>\n",
              "      <td>1.0</td>\n",
              "      <td>1556.0</td>\n",
              "      <td>house</td>\n",
              "      <td>51.085292</td>\n",
              "      <td>-114.264517</td>\n",
              "      <td>2002.0</td>\n",
              "      <td>18.0</td>\n",
              "      <td>14.055943</td>\n",
              "      <td>2529.61</td>\n",
              "    </tr>\n",
              "    <tr>\n",
              "      <th>3</th>\n",
              "      <td>614900</td>\n",
              "      <td>T3M2J9</td>\n",
              "      <td>28 MAHOGANY PK SE</td>\n",
              "      <td>3.0</td>\n",
              "      <td>3.0</td>\n",
              "      <td>1.0</td>\n",
              "      <td>2166.0</td>\n",
              "      <td>house</td>\n",
              "      <td>50.887413</td>\n",
              "      <td>-113.940111</td>\n",
              "      <td>2017.0</td>\n",
              "      <td>3.0</td>\n",
              "      <td>19.873340</td>\n",
              "      <td>2658.90</td>\n",
              "    </tr>\n",
              "    <tr>\n",
              "      <th>4</th>\n",
              "      <td>478800</td>\n",
              "      <td>T3M0X6</td>\n",
              "      <td>117 MAHOGANY HTS SE</td>\n",
              "      <td>4.0</td>\n",
              "      <td>3.0</td>\n",
              "      <td>1.0</td>\n",
              "      <td>1703.0</td>\n",
              "      <td>house</td>\n",
              "      <td>50.903714</td>\n",
              "      <td>-113.934113</td>\n",
              "      <td>2011.0</td>\n",
              "      <td>9.0</td>\n",
              "      <td>18.512596</td>\n",
              "      <td>2070.39</td>\n",
              "    </tr>\n",
              "  </tbody>\n",
              "</table>\n",
              "</div>"
            ],
            "text/plain": [
              "    price postal_code  ... distance_downtown  monthly_payments\n",
              "0  334786      T3J1K5  ...         11.182732           1447.65\n",
              "1  469900      T2Z0R3  ...         17.531322           2031.91\n",
              "2  585000      T3B5X8  ...         14.055943           2529.61\n",
              "3  614900      T3M2J9  ...         19.873340           2658.90\n",
              "4  478800      T3M0X6  ...         18.512596           2070.39\n",
              "\n",
              "[5 rows x 14 columns]"
            ]
          },
          "metadata": {
            "tags": []
          },
          "execution_count": 2
        }
      ]
    },
    {
      "cell_type": "markdown",
      "metadata": {
        "id": "CbH0fYscxE-4"
      },
      "source": [
        "## **Analyzing Data**"
      ]
    },
    {
      "cell_type": "code",
      "metadata": {
        "id": "JCW2P4aOcT0t",
        "outputId": "ce0c5f03-316f-4767-fd0c-852757ba4e24",
        "colab": {
          "base_uri": "https://localhost:8080/"
        }
      },
      "source": [
        "house_info = house_info[house_info[\"price\"] < 1000000]\n",
        "len(house_info)"
      ],
      "execution_count": 15,
      "outputs": [
        {
          "output_type": "execute_result",
          "data": {
            "text/plain": [
              "6631"
            ]
          },
          "metadata": {
            "tags": []
          },
          "execution_count": 15
        }
      ]
    },
    {
      "cell_type": "code",
      "metadata": {
        "id": "zUl3yanQxdnQ",
        "outputId": "23842398-6f70-4424-e564-083d5bbfc949",
        "colab": {
          "base_uri": "https://localhost:8080/",
          "height": 405
        }
      },
      "source": [
        "sns.set_style('white')\n",
        "plt.figure(figsize=(10, 6))\n",
        "sns.countplot(x=\"bed\", data=house_info)"
      ],
      "execution_count": 16,
      "outputs": [
        {
          "output_type": "execute_result",
          "data": {
            "text/plain": [
              "<matplotlib.axes._subplots.AxesSubplot at 0x7f0aa1f846a0>"
            ]
          },
          "metadata": {
            "tags": []
          },
          "execution_count": 16
        },
        {
          "output_type": "display_data",
          "data": {
            "image/png": "[encoded data removed]",
            "text/plain": [
              "<Figure size 720x432 with 1 Axes>"
            ]
          },
          "metadata": {
            "tags": []
          }
        }
      ]
    },
    {
      "cell_type": "code",
      "metadata": {
        "id": "RFSaZKkvxnLA",
        "outputId": "5d57684c-8086-40ad-95a7-42564d7a5f55",
        "colab": {
          "base_uri": "https://localhost:8080/",
          "height": 405
        }
      },
      "source": [
        "plt.figure(figsize=(20, 6))\n",
        "sns.histplot(data=house_info, x=\"price\", hue=\"property_type\")"
      ],
      "execution_count": 17,
      "outputs": [
        {
          "output_type": "execute_result",
          "data": {
            "text/plain": [
              "<matplotlib.axes._subplots.AxesSubplot at 0x7f0aa1ea4940>"
            ]
          },
          "metadata": {
            "tags": []
          },
          "execution_count": 17
        },
        {
          "output_type": "display_data",
          "data": {
            "image/png": "[encoded data removed]",
            "text/plain": [
              "<Figure size 1440x432 with 1 Axes>"
            ]
          },
          "metadata": {
            "tags": []
          }
        }
      ]
    },
    {
      "cell_type": "markdown",
      "metadata": {
        "id": "YcCNONf0xxo7"
      },
      "source": [
        "# **Data Wrangling**"
      ]
    },
    {
      "cell_type": "code",
      "metadata": {
        "id": "UCxeX9hYx0wa",
        "outputId": "12ef8319-fbac-4c63-9e74-809c71ba8af0",
        "colab": {
          "base_uri": "https://localhost:8080/"
        }
      },
      "source": [
        "house_info.isnull().sum()"
      ],
      "execution_count": 19,
      "outputs": [
        {
          "output_type": "execute_result",
          "data": {
            "text/plain": [
              "price                   0\n",
              "postal_code             0\n",
              "address                 0\n",
              "bed                    44\n",
              "full_bath              44\n",
              "half_bath            3784\n",
              "property_area          13\n",
              "property_type          41\n",
              "latitude                0\n",
              "longitude               0\n",
              "year_built            812\n",
              "years_old             812\n",
              "distance_downtown       0\n",
              "monthly_payments       64\n",
              "dtype: int64"
            ]
          },
          "metadata": {
            "tags": []
          },
          "execution_count": 19
        }
      ]
    },
    {
      "cell_type": "code",
      "metadata": {
        "id": "o6PE2vP3zZa5",
        "outputId": "47b87d9b-e324-4d8b-957f-47745fed296a",
        "colab": {
          "base_uri": "https://localhost:8080/",
          "height": 701
        }
      },
      "source": [
        "sns.set_style('white')\n",
        "plt.figure(figsize=(15, 10))\n",
        "sns.heatmap(data=house_info.isnull(), yticklabels=False)"
      ],
      "execution_count": 20,
      "outputs": [
        {
          "output_type": "execute_result",
          "data": {
            "text/plain": [
              "<matplotlib.axes._subplots.AxesSubplot at 0x7f0aa1e91240>"
            ]
          },
          "metadata": {
            "tags": []
          },
          "execution_count": 20
        },
        {
          "output_type": "display_data",
          "data": {
            "image/png": "[encoded data removed]",
            "text/plain": [
              "<Figure size 1080x720 with 2 Axes>"
            ]
          },
          "metadata": {
            "tags": []
          }
        }
      ]
    },
    {
      "cell_type": "code",
      "metadata": {
        "id": "BaIIR4YnzcWQ"
      },
      "source": [
        "# Replace nan values with average years_old and 0\n",
        "\n",
        "house_info['years_old']=house_info['years_old'].replace(np.nan,house_info['years_old'].mean())\n",
        "house_info['half_bath']=house_info['half_bath'].replace(np.nan,0)\n",
        "house_info = house_info.dropna(subset=['bed', 'full_bath', 'property_area', 'property_type'])"
      ],
      "execution_count": 23,
      "outputs": []
    },
    {
      "cell_type": "code",
      "metadata": {
        "id": "6cBXxEE6zzCr",
        "outputId": "2aa8f1fe-aa82-415b-d4f9-1f1b0a1e8f17",
        "colab": {
          "base_uri": "https://localhost:8080/"
        }
      },
      "source": [
        "house_info.isnull().sum()"
      ],
      "execution_count": 24,
      "outputs": [
        {
          "output_type": "execute_result",
          "data": {
            "text/plain": [
              "price                  0\n",
              "postal_code            0\n",
              "address                0\n",
              "bed                    0\n",
              "full_bath              0\n",
              "half_bath              0\n",
              "property_area          0\n",
              "property_type          0\n",
              "latitude               0\n",
              "longitude              0\n",
              "year_built           802\n",
              "years_old              0\n",
              "distance_downtown      0\n",
              "monthly_payments      58\n",
              "dtype: int64"
            ]
          },
          "metadata": {
            "tags": []
          },
          "execution_count": 24
        }
      ]
    },
    {
      "cell_type": "code",
      "metadata": {
        "id": "aUjoIhlPz2Gm",
        "outputId": "db6acc83-b706-4212-aad7-b617bee269d1",
        "colab": {
          "base_uri": "https://localhost:8080/",
          "height": 484
        }
      },
      "source": [
        "sns.set_style('white')\n",
        "plt.figure(figsize=(15, 6))\n",
        "sns.heatmap(data=house_info.isnull(), yticklabels=False)"
      ],
      "execution_count": 25,
      "outputs": [
        {
          "output_type": "execute_result",
          "data": {
            "text/plain": [
              "<matplotlib.axes._subplots.AxesSubplot at 0x7f0aa1aa2630>"
            ]
          },
          "metadata": {
            "tags": []
          },
          "execution_count": 25
        },
        {
          "output_type": "display_data",
          "data": {
            "image/png": "[encoded data removed]",
            "text/plain": [
              "<Figure size 1080x432 with 2 Axes>"
            ]
          },
          "metadata": {
            "tags": []
          }
        }
      ]
    },
    {
      "cell_type": "code",
      "metadata": {
        "id": "8nIlm88oz-LL",
        "outputId": "926ac684-a246-471d-f2f8-d95b04b9db19",
        "colab": {
          "base_uri": "https://localhost:8080/",
          "height": 204
        }
      },
      "source": [
        "house_info.head()"
      ],
      "execution_count": 26,
      "outputs": [
        {
          "output_type": "execute_result",
          "data": {
            "text/html": [
              "<div>\n",
              "<style scoped>\n",
              "    .dataframe tbody tr th:only-of-type {\n",
              "        vertical-align: middle;\n",
              "    }\n",
              "\n",
              "    .dataframe tbody tr th {\n",
              "        vertical-align: top;\n",
              "    }\n",
              "\n",
              "    .dataframe thead th {\n",
              "        text-align: right;\n",
              "    }\n",
              "</style>\n",
              "<table border=\"1\" class=\"dataframe\">\n",
              "  <thead>\n",
              "    <tr style=\"text-align: right;\">\n",
              "      <th></th>\n",
              "      <th>price</th>\n",
              "      <th>postal_code</th>\n",
              "      <th>address</th>\n",
              "      <th>bed</th>\n",
              "      <th>full_bath</th>\n",
              "      <th>half_bath</th>\n",
              "      <th>property_area</th>\n",
              "      <th>property_type</th>\n",
              "      <th>latitude</th>\n",
              "      <th>longitude</th>\n",
              "      <th>year_built</th>\n",
              "      <th>years_old</th>\n",
              "      <th>distance_downtown</th>\n",
              "      <th>monthly_payments</th>\n",
              "    </tr>\n",
              "  </thead>\n",
              "  <tbody>\n",
              "    <tr>\n",
              "      <th>0</th>\n",
              "      <td>334786</td>\n",
              "      <td>T3J1K5</td>\n",
              "      <td>116 FALTON WAY NE</td>\n",
              "      <td>3.0</td>\n",
              "      <td>1.0</td>\n",
              "      <td>1.0</td>\n",
              "      <td>1179.0</td>\n",
              "      <td>house</td>\n",
              "      <td>51.102699</td>\n",
              "      <td>-113.942978</td>\n",
              "      <td>1980.0</td>\n",
              "      <td>40.0</td>\n",
              "      <td>11.182732</td>\n",
              "      <td>1447.65</td>\n",
              "    </tr>\n",
              "    <tr>\n",
              "      <th>1</th>\n",
              "      <td>469900</td>\n",
              "      <td>T2Z0R3</td>\n",
              "      <td>239 COPPERPOND BAY SE</td>\n",
              "      <td>3.0</td>\n",
              "      <td>2.0</td>\n",
              "      <td>1.0</td>\n",
              "      <td>2136.0</td>\n",
              "      <td>house</td>\n",
              "      <td>50.919753</td>\n",
              "      <td>-113.921865</td>\n",
              "      <td>2011.0</td>\n",
              "      <td>9.0</td>\n",
              "      <td>17.531322</td>\n",
              "      <td>2031.91</td>\n",
              "    </tr>\n",
              "    <tr>\n",
              "      <th>2</th>\n",
              "      <td>585000</td>\n",
              "      <td>T3B5X8</td>\n",
              "      <td>25 CRESTHAVEN WAY SW</td>\n",
              "      <td>3.0</td>\n",
              "      <td>2.0</td>\n",
              "      <td>1.0</td>\n",
              "      <td>1556.0</td>\n",
              "      <td>house</td>\n",
              "      <td>51.085292</td>\n",
              "      <td>-114.264517</td>\n",
              "      <td>2002.0</td>\n",
              "      <td>18.0</td>\n",
              "      <td>14.055943</td>\n",
              "      <td>2529.61</td>\n",
              "    </tr>\n",
              "    <tr>\n",
              "      <th>3</th>\n",
              "      <td>614900</td>\n",
              "      <td>T3M2J9</td>\n",
              "      <td>28 MAHOGANY PK SE</td>\n",
              "      <td>3.0</td>\n",
              "      <td>3.0</td>\n",
              "      <td>1.0</td>\n",
              "      <td>2166.0</td>\n",
              "      <td>house</td>\n",
              "      <td>50.887413</td>\n",
              "      <td>-113.940111</td>\n",
              "      <td>2017.0</td>\n",
              "      <td>3.0</td>\n",
              "      <td>19.873340</td>\n",
              "      <td>2658.90</td>\n",
              "    </tr>\n",
              "    <tr>\n",
              "      <th>4</th>\n",
              "      <td>478800</td>\n",
              "      <td>T3M0X6</td>\n",
              "      <td>117 MAHOGANY HTS SE</td>\n",
              "      <td>4.0</td>\n",
              "      <td>3.0</td>\n",
              "      <td>1.0</td>\n",
              "      <td>1703.0</td>\n",
              "      <td>house</td>\n",
              "      <td>50.903714</td>\n",
              "      <td>-113.934113</td>\n",
              "      <td>2011.0</td>\n",
              "      <td>9.0</td>\n",
              "      <td>18.512596</td>\n",
              "      <td>2070.39</td>\n",
              "    </tr>\n",
              "  </tbody>\n",
              "</table>\n",
              "</div>"
            ],
            "text/plain": [
              "    price postal_code  ... distance_downtown  monthly_payments\n",
              "0  334786      T3J1K5  ...         11.182732           1447.65\n",
              "1  469900      T2Z0R3  ...         17.531322           2031.91\n",
              "2  585000      T3B5X8  ...         14.055943           2529.61\n",
              "3  614900      T3M2J9  ...         19.873340           2658.90\n",
              "4  478800      T3M0X6  ...         18.512596           2070.39\n",
              "\n",
              "[5 rows x 14 columns]"
            ]
          },
          "metadata": {
            "tags": []
          },
          "execution_count": 26
        }
      ]
    },
    {
      "cell_type": "markdown",
      "metadata": {
        "id": "-tHxFogl0MJh"
      },
      "source": [
        "# **One-hot encoding**"
      ]
    },
    {
      "cell_type": "code",
      "metadata": {
        "id": "dCkRAc1Z0T2a",
        "outputId": "4e9ce234-c1b9-4aab-cec3-61158c323b4f",
        "colab": {
          "base_uri": "https://localhost:8080/",
          "height": 204
        }
      },
      "source": [
        "prop_area = pd.get_dummies(house_info[\"property_type\"])\n",
        "prop_area.head()"
      ],
      "execution_count": 27,
      "outputs": [
        {
          "output_type": "execute_result",
          "data": {
            "text/html": [
              "<div>\n",
              "<style scoped>\n",
              "    .dataframe tbody tr th:only-of-type {\n",
              "        vertical-align: middle;\n",
              "    }\n",
              "\n",
              "    .dataframe tbody tr th {\n",
              "        vertical-align: top;\n",
              "    }\n",
              "\n",
              "    .dataframe thead th {\n",
              "        text-align: right;\n",
              "    }\n",
              "</style>\n",
              "<table border=\"1\" class=\"dataframe\">\n",
              "  <thead>\n",
              "    <tr style=\"text-align: right;\">\n",
              "      <th></th>\n",
              "      <th>condo</th>\n",
              "      <th>house</th>\n",
              "      <th>townhouse</th>\n",
              "    </tr>\n",
              "  </thead>\n",
              "  <tbody>\n",
              "    <tr>\n",
              "      <th>0</th>\n",
              "      <td>0</td>\n",
              "      <td>1</td>\n",
              "      <td>0</td>\n",
              "    </tr>\n",
              "    <tr>\n",
              "      <th>1</th>\n",
              "      <td>0</td>\n",
              "      <td>1</td>\n",
              "      <td>0</td>\n",
              "    </tr>\n",
              "    <tr>\n",
              "      <th>2</th>\n",
              "      <td>0</td>\n",
              "      <td>1</td>\n",
              "      <td>0</td>\n",
              "    </tr>\n",
              "    <tr>\n",
              "      <th>3</th>\n",
              "      <td>0</td>\n",
              "      <td>1</td>\n",
              "      <td>0</td>\n",
              "    </tr>\n",
              "    <tr>\n",
              "      <th>4</th>\n",
              "      <td>0</td>\n",
              "      <td>1</td>\n",
              "      <td>0</td>\n",
              "    </tr>\n",
              "  </tbody>\n",
              "</table>\n",
              "</div>"
            ],
            "text/plain": [
              "   condo  house  townhouse\n",
              "0      0      1          0\n",
              "1      0      1          0\n",
              "2      0      1          0\n",
              "3      0      1          0\n",
              "4      0      1          0"
            ]
          },
          "metadata": {
            "tags": []
          },
          "execution_count": 27
        }
      ]
    },
    {
      "cell_type": "markdown",
      "metadata": {
        "id": "yoL5ftFU0hJD"
      },
      "source": [
        "## **Merge tables**"
      ]
    },
    {
      "cell_type": "code",
      "metadata": {
        "id": "E-4b_BrM0lD7",
        "outputId": "5a3a117b-5faa-4216-d726-c3b6d6cd435b",
        "colab": {
          "base_uri": "https://localhost:8080/",
          "height": 204
        }
      },
      "source": [
        "table_df = pd.concat([house_info, prop_area], axis=1)\n",
        "table_df.head()"
      ],
      "execution_count": 28,
      "outputs": [
        {
          "output_type": "execute_result",
          "data": {
            "text/html": [
              "<div>\n",
              "<style scoped>\n",
              "    .dataframe tbody tr th:only-of-type {\n",
              "        vertical-align: middle;\n",
              "    }\n",
              "\n",
              "    .dataframe tbody tr th {\n",
              "        vertical-align: top;\n",
              "    }\n",
              "\n",
              "    .dataframe thead th {\n",
              "        text-align: right;\n",
              "    }\n",
              "</style>\n",
              "<table border=\"1\" class=\"dataframe\">\n",
              "  <thead>\n",
              "    <tr style=\"text-align: right;\">\n",
              "      <th></th>\n",
              "      <th>price</th>\n",
              "      <th>postal_code</th>\n",
              "      <th>address</th>\n",
              "      <th>bed</th>\n",
              "      <th>full_bath</th>\n",
              "      <th>half_bath</th>\n",
              "      <th>property_area</th>\n",
              "      <th>property_type</th>\n",
              "      <th>latitude</th>\n",
              "      <th>longitude</th>\n",
              "      <th>year_built</th>\n",
              "      <th>years_old</th>\n",
              "      <th>distance_downtown</th>\n",
              "      <th>monthly_payments</th>\n",
              "      <th>condo</th>\n",
              "      <th>house</th>\n",
              "      <th>townhouse</th>\n",
              "    </tr>\n",
              "  </thead>\n",
              "  <tbody>\n",
              "    <tr>\n",
              "      <th>0</th>\n",
              "      <td>334786</td>\n",
              "      <td>T3J1K5</td>\n",
              "      <td>116 FALTON WAY NE</td>\n",
              "      <td>3.0</td>\n",
              "      <td>1.0</td>\n",
              "      <td>1.0</td>\n",
              "      <td>1179.0</td>\n",
              "      <td>house</td>\n",
              "      <td>51.102699</td>\n",
              "      <td>-113.942978</td>\n",
              "      <td>1980.0</td>\n",
              "      <td>40.0</td>\n",
              "      <td>11.182732</td>\n",
              "      <td>1447.65</td>\n",
              "      <td>0</td>\n",
              "      <td>1</td>\n",
              "      <td>0</td>\n",
              "    </tr>\n",
              "    <tr>\n",
              "      <th>1</th>\n",
              "      <td>469900</td>\n",
              "      <td>T2Z0R3</td>\n",
              "      <td>239 COPPERPOND BAY SE</td>\n",
              "      <td>3.0</td>\n",
              "      <td>2.0</td>\n",
              "      <td>1.0</td>\n",
              "      <td>2136.0</td>\n",
              "      <td>house</td>\n",
              "      <td>50.919753</td>\n",
              "      <td>-113.921865</td>\n",
              "      <td>2011.0</td>\n",
              "      <td>9.0</td>\n",
              "      <td>17.531322</td>\n",
              "      <td>2031.91</td>\n",
              "      <td>0</td>\n",
              "      <td>1</td>\n",
              "      <td>0</td>\n",
              "    </tr>\n",
              "    <tr>\n",
              "      <th>2</th>\n",
              "      <td>585000</td>\n",
              "      <td>T3B5X8</td>\n",
              "      <td>25 CRESTHAVEN WAY SW</td>\n",
              "      <td>3.0</td>\n",
              "      <td>2.0</td>\n",
              "      <td>1.0</td>\n",
              "      <td>1556.0</td>\n",
              "      <td>house</td>\n",
              "      <td>51.085292</td>\n",
              "      <td>-114.264517</td>\n",
              "      <td>2002.0</td>\n",
              "      <td>18.0</td>\n",
              "      <td>14.055943</td>\n",
              "      <td>2529.61</td>\n",
              "      <td>0</td>\n",
              "      <td>1</td>\n",
              "      <td>0</td>\n",
              "    </tr>\n",
              "    <tr>\n",
              "      <th>3</th>\n",
              "      <td>614900</td>\n",
              "      <td>T3M2J9</td>\n",
              "      <td>28 MAHOGANY PK SE</td>\n",
              "      <td>3.0</td>\n",
              "      <td>3.0</td>\n",
              "      <td>1.0</td>\n",
              "      <td>2166.0</td>\n",
              "      <td>house</td>\n",
              "      <td>50.887413</td>\n",
              "      <td>-113.940111</td>\n",
              "      <td>2017.0</td>\n",
              "      <td>3.0</td>\n",
              "      <td>19.873340</td>\n",
              "      <td>2658.90</td>\n",
              "      <td>0</td>\n",
              "      <td>1</td>\n",
              "      <td>0</td>\n",
              "    </tr>\n",
              "    <tr>\n",
              "      <th>4</th>\n",
              "      <td>478800</td>\n",
              "      <td>T3M0X6</td>\n",
              "      <td>117 MAHOGANY HTS SE</td>\n",
              "      <td>4.0</td>\n",
              "      <td>3.0</td>\n",
              "      <td>1.0</td>\n",
              "      <td>1703.0</td>\n",
              "      <td>house</td>\n",
              "      <td>50.903714</td>\n",
              "      <td>-113.934113</td>\n",
              "      <td>2011.0</td>\n",
              "      <td>9.0</td>\n",
              "      <td>18.512596</td>\n",
              "      <td>2070.39</td>\n",
              "      <td>0</td>\n",
              "      <td>1</td>\n",
              "      <td>0</td>\n",
              "    </tr>\n",
              "  </tbody>\n",
              "</table>\n",
              "</div>"
            ],
            "text/plain": [
              "    price postal_code                address  ...  condo  house  townhouse\n",
              "0  334786      T3J1K5      116 FALTON WAY NE  ...      0      1          0\n",
              "1  469900      T2Z0R3  239 COPPERPOND BAY SE  ...      0      1          0\n",
              "2  585000      T3B5X8   25 CRESTHAVEN WAY SW  ...      0      1          0\n",
              "3  614900      T3M2J9      28 MAHOGANY PK SE  ...      0      1          0\n",
              "4  478800      T3M0X6    117 MAHOGANY HTS SE  ...      0      1          0\n",
              "\n",
              "[5 rows x 17 columns]"
            ]
          },
          "metadata": {
            "tags": []
          },
          "execution_count": 28
        }
      ]
    },
    {
      "cell_type": "code",
      "metadata": {
        "id": "EJ_iQAP_0rNA",
        "outputId": "f1f7974e-dfac-4a71-f92b-1358314a71fa",
        "colab": {
          "base_uri": "https://localhost:8080/",
          "height": 204
        }
      },
      "source": [
        "df = table_df[['price', 'bed', 'full_bath', 'half_bath', 'property_area', 'condo',\n",
        "                 'house', 'townhouse', 'years_old', 'distance_downtown']]\n",
        "df.head()"
      ],
      "execution_count": 29,
      "outputs": [
        {
          "output_type": "execute_result",
          "data": {
            "text/html": [
              "<div>\n",
              "<style scoped>\n",
              "    .dataframe tbody tr th:only-of-type {\n",
              "        vertical-align: middle;\n",
              "    }\n",
              "\n",
              "    .dataframe tbody tr th {\n",
              "        vertical-align: top;\n",
              "    }\n",
              "\n",
              "    .dataframe thead th {\n",
              "        text-align: right;\n",
              "    }\n",
              "</style>\n",
              "<table border=\"1\" class=\"dataframe\">\n",
              "  <thead>\n",
              "    <tr style=\"text-align: right;\">\n",
              "      <th></th>\n",
              "      <th>price</th>\n",
              "      <th>bed</th>\n",
              "      <th>full_bath</th>\n",
              "      <th>half_bath</th>\n",
              "      <th>property_area</th>\n",
              "      <th>condo</th>\n",
              "      <th>house</th>\n",
              "      <th>townhouse</th>\n",
              "      <th>years_old</th>\n",
              "      <th>distance_downtown</th>\n",
              "    </tr>\n",
              "  </thead>\n",
              "  <tbody>\n",
              "    <tr>\n",
              "      <th>0</th>\n",
              "      <td>334786</td>\n",
              "      <td>3.0</td>\n",
              "      <td>1.0</td>\n",
              "      <td>1.0</td>\n",
              "      <td>1179.0</td>\n",
              "      <td>0</td>\n",
              "      <td>1</td>\n",
              "      <td>0</td>\n",
              "      <td>40.0</td>\n",
              "      <td>11.182732</td>\n",
              "    </tr>\n",
              "    <tr>\n",
              "      <th>1</th>\n",
              "      <td>469900</td>\n",
              "      <td>3.0</td>\n",
              "      <td>2.0</td>\n",
              "      <td>1.0</td>\n",
              "      <td>2136.0</td>\n",
              "      <td>0</td>\n",
              "      <td>1</td>\n",
              "      <td>0</td>\n",
              "      <td>9.0</td>\n",
              "      <td>17.531322</td>\n",
              "    </tr>\n",
              "    <tr>\n",
              "      <th>2</th>\n",
              "      <td>585000</td>\n",
              "      <td>3.0</td>\n",
              "      <td>2.0</td>\n",
              "      <td>1.0</td>\n",
              "      <td>1556.0</td>\n",
              "      <td>0</td>\n",
              "      <td>1</td>\n",
              "      <td>0</td>\n",
              "      <td>18.0</td>\n",
              "      <td>14.055943</td>\n",
              "    </tr>\n",
              "    <tr>\n",
              "      <th>3</th>\n",
              "      <td>614900</td>\n",
              "      <td>3.0</td>\n",
              "      <td>3.0</td>\n",
              "      <td>1.0</td>\n",
              "      <td>2166.0</td>\n",
              "      <td>0</td>\n",
              "      <td>1</td>\n",
              "      <td>0</td>\n",
              "      <td>3.0</td>\n",
              "      <td>19.873340</td>\n",
              "    </tr>\n",
              "    <tr>\n",
              "      <th>4</th>\n",
              "      <td>478800</td>\n",
              "      <td>4.0</td>\n",
              "      <td>3.0</td>\n",
              "      <td>1.0</td>\n",
              "      <td>1703.0</td>\n",
              "      <td>0</td>\n",
              "      <td>1</td>\n",
              "      <td>0</td>\n",
              "      <td>9.0</td>\n",
              "      <td>18.512596</td>\n",
              "    </tr>\n",
              "  </tbody>\n",
              "</table>\n",
              "</div>"
            ],
            "text/plain": [
              "    price  bed  full_bath  ...  townhouse  years_old  distance_downtown\n",
              "0  334786  3.0        1.0  ...          0       40.0          11.182732\n",
              "1  469900  3.0        2.0  ...          0        9.0          17.531322\n",
              "2  585000  3.0        2.0  ...          0       18.0          14.055943\n",
              "3  614900  3.0        3.0  ...          0        3.0          19.873340\n",
              "4  478800  4.0        3.0  ...          0        9.0          18.512596\n",
              "\n",
              "[5 rows x 10 columns]"
            ]
          },
          "metadata": {
            "tags": []
          },
          "execution_count": 29
        }
      ]
    },
    {
      "cell_type": "markdown",
      "metadata": {
        "id": "ZEO3JYuN0xni"
      },
      "source": [
        "## **Train Data**"
      ]
    },
    {
      "cell_type": "code",
      "metadata": {
        "id": "jjuwKzSw011r"
      },
      "source": [
        "X = df.drop('price', axis=1)\n",
        "y = df['price']"
      ],
      "execution_count": 30,
      "outputs": []
    },
    {
      "cell_type": "code",
      "metadata": {
        "id": "anc2zGhl05JL"
      },
      "source": [
        "# Use train_test_split to create training and testing data\n",
        "from sklearn.model_selection import train_test_split\n",
        "\n",
        "X_train, X_test, y_train, y_test = train_test_split(X, y, random_state=42)"
      ],
      "execution_count": 31,
      "outputs": []
    },
    {
      "cell_type": "code",
      "metadata": {
        "id": "0w1g3BidnSY1",
        "outputId": "478ac6cb-0f13-4cb1-891f-e11919407b60",
        "colab": {
          "base_uri": "https://localhost:8080/"
        }
      },
      "source": [
        "from sklearn.preprocessing import MinMaxScaler\n",
        "from sklearn.feature_selection import SelectKBest\n",
        "from sklearn.feature_selection import chi2\n",
        "\n",
        "X_minmax = MinMaxScaler().fit(X_train)\n",
        "\n",
        "X_train_minmax = X_minmax.transform(X_train)\n",
        "X_test_minmax = X_minmax.transform(X_test)\n",
        "\n",
        "\n",
        "\n",
        "#apply SelectKBest class to extract top 10 best features\n",
        "bestfeatures = SelectKBest(score_func=chi2, k='all')\n",
        "fit = bestfeatures.fit(X_train_minmax,y_train)\n",
        "dfscores = pd.DataFrame(fit.scores_)\n",
        "dfcolumns = pd.DataFrame(X.columns)\n",
        "#concat two dataframes for better visualization \n",
        "featureScores = pd.concat([dfcolumns,dfscores],axis=1)\n",
        "featureScores.columns = ['Specs','Score']  #naming the dataframe columns\n",
        "top_features = featureScores.nlargest(10,'Score')\n",
        "print(top_features)  #print best features"
      ],
      "execution_count": 32,
      "outputs": [
        {
          "output_type": "stream",
          "text": [
            "               Specs        Score\n",
            "5              house  1863.461603\n",
            "6          townhouse  1863.114090\n",
            "4              condo  1775.896406\n",
            "2          half_bath   759.596459\n",
            "1          full_bath   477.726933\n",
            "0                bed   373.608484\n",
            "3      property_area   334.542067\n",
            "7          years_old   187.920798\n",
            "8  distance_downtown    74.426896\n"
          ],
          "name": "stdout"
        }
      ]
    },
    {
      "cell_type": "code",
      "metadata": {
        "id": "7s8FxnfQ07c-"
      },
      "source": [
        "# Create the model using LinearRegression\n",
        "\n",
        "from sklearn.linear_model import LinearRegression\n",
        "model = LinearRegression()"
      ],
      "execution_count": 33,
      "outputs": []
    },
    {
      "cell_type": "code",
      "metadata": {
        "id": "imE5A-_O099k",
        "outputId": "26c01334-788a-4a31-e1a4-c012c24954f1",
        "colab": {
          "base_uri": "https://localhost:8080/"
        }
      },
      "source": [
        "# Fit the model to the training data and calculate the score for the training data\n",
        "\n",
        "model.fit(X_train_minmax, y_train)\n",
        "training_score = model.score(X_train_minmax, y_train)\n",
        "\n",
        "print(f\"Training Score: {training_score}\")"
      ],
      "execution_count": 34,
      "outputs": [
        {
          "output_type": "stream",
          "text": [
            "Training Score: 0.6577056861603694\n"
          ],
          "name": "stdout"
        }
      ]
    },
    {
      "cell_type": "markdown",
      "metadata": {
        "id": "PO-FkH3w1DpK"
      },
      "source": [
        "## **Test Data**"
      ]
    },
    {
      "cell_type": "code",
      "metadata": {
        "id": "t_FVyL_X1Bzc",
        "outputId": "51aa98aa-6641-421a-b16b-51ad54905a67",
        "colab": {
          "base_uri": "https://localhost:8080/"
        }
      },
      "source": [
        "# Calculate the score for the testing data\n",
        "\n",
        "testing_score = model.score(X_test_minmax, y_test)\n",
        "print(f\"Testing Score: {testing_score}\")"
      ],
      "execution_count": 35,
      "outputs": [
        {
          "output_type": "stream",
          "text": [
            "Testing Score: 0.6522470471951354\n"
          ],
          "name": "stdout"
        }
      ]
    },
    {
      "cell_type": "markdown",
      "metadata": {
        "id": "JUY6EoMP1ZkQ"
      },
      "source": [
        "## **Linear Regression Model**"
      ]
    },
    {
      "cell_type": "code",
      "metadata": {
        "id": "QddIt6tB1Rbj",
        "outputId": "bceb6354-f39e-4684-c90a-8fbe342de471",
        "colab": {
          "base_uri": "https://localhost:8080/"
        }
      },
      "source": [
        "from sklearn import linear_model\n",
        "regr = linear_model.LinearRegression()\n",
        "regr.fit(X, y)"
      ],
      "execution_count": 36,
      "outputs": [
        {
          "output_type": "execute_result",
          "data": {
            "text/plain": [
              "LinearRegression(copy_X=True, fit_intercept=True, n_jobs=None, normalize=False)"
            ]
          },
          "metadata": {
            "tags": []
          },
          "execution_count": 36
        }
      ]
    },
    {
      "cell_type": "code",
      "metadata": {
        "id": "EMEItztG1hE5",
        "outputId": "df82c8fa-b9e5-4021-fdac-31958aa13a43",
        "colab": {
          "base_uri": "https://localhost:8080/"
        }
      },
      "source": [
        "regr.coef_"
      ],
      "execution_count": 37,
      "outputs": [
        {
          "output_type": "execute_result",
          "data": {
            "text/plain": [
              "array([-1.39228720e+04,  5.97413707e+04, -2.34070121e+04,  1.98481880e+02,\n",
              "       -3.70607569e+04,  6.88418476e+04, -3.17810906e+04, -2.17376740e+01,\n",
              "       -1.77794990e+03])"
            ]
          },
          "metadata": {
            "tags": []
          },
          "execution_count": 37
        }
      ]
    },
    {
      "cell_type": "code",
      "metadata": {
        "id": "mX5xLjO91lDY",
        "outputId": "e3a55275-b130-4d9f-d6fd-5c22d45040a9",
        "colab": {
          "base_uri": "https://localhost:8080/"
        }
      },
      "source": [
        "regr.intercept_"
      ],
      "execution_count": 38,
      "outputs": [
        {
          "output_type": "execute_result",
          "data": {
            "text/plain": [
              "113759.2133863396"
            ]
          },
          "metadata": {
            "tags": []
          },
          "execution_count": 38
        }
      ]
    },
    {
      "cell_type": "code",
      "metadata": {
        "id": "CKakb__d1n3X",
        "outputId": "5ea1839b-4e16-47c5-815b-755a65e3aae9",
        "colab": {
          "base_uri": "https://localhost:8080/"
        }
      },
      "source": [
        "# Predict the price of a townhouse with the following features\n",
        "\n",
        "# bed = 3\n",
        "# full_bath = 2\n",
        "# half_bath = 0\n",
        "# property_area = 1500\n",
        "# years_old = 15\n",
        "# distance_downtown = 12.554\n",
        "\n",
        "regr.predict([[3, 2, 0, 1500, 0, 0, 1, 15, 12.554]])"
      ],
      "execution_count": 39,
      "outputs": [
        {
          "output_type": "execute_result",
          "data": {
            "text/plain": [
              "array([434768.62018769])"
            ]
          },
          "metadata": {
            "tags": []
          },
          "execution_count": 39
        }
      ]
    },
    {
      "cell_type": "code",
      "metadata": {
        "id": "x51nbaZY1rId",
        "outputId": "fb3ebee5-c6b1-4d09-bdea-b16e277b7a26",
        "colab": {
          "base_uri": "https://localhost:8080/"
        }
      },
      "source": [
        "# Another sample\n",
        "\n",
        "regr.predict([[3, 3, 0, 1200, 0, 0, 1, 15, 14.2]])"
      ],
      "execution_count": 40,
      "outputs": [
        {
          "output_type": "execute_result",
          "data": {
            "text/plain": [
              "array([432038.92134921])"
            ]
          },
          "metadata": {
            "tags": []
          },
          "execution_count": 40
        }
      ]
    },
    {
      "cell_type": "code",
      "metadata": {
        "id": "-laO_N7h1xrm",
        "outputId": "7e5669f3-e0a9-4cdc-be97-66ea6bfa4ae3",
        "colab": {
          "base_uri": "https://localhost:8080/",
          "height": 420
        }
      },
      "source": [
        "# Plot the Residuals for the Training and Testing data\n",
        "\n",
        "plt.figure(figsize=(10, 6))\n",
        "plt.scatter(model.predict(X_train_minmax), model.predict(X_train_minmax) - y_train, c=\"blue\", label=\"Training Data\")\n",
        "plt.scatter(model.predict(X_test_minmax), model.predict(X_test_minmax) - y_test, c=\"orange\", label=\"Testing Data\")\n",
        "plt.legend()\n",
        "plt.hlines(y=0, xmin=y.min(), xmax=y.max())\n",
        "plt.title(\"Residual Plot\")"
      ],
      "execution_count": 41,
      "outputs": [
        {
          "output_type": "execute_result",
          "data": {
            "text/plain": [
              "Text(0.5, 1.0, 'Residual Plot')"
            ]
          },
          "metadata": {
            "tags": []
          },
          "execution_count": 41
        },
        {
          "output_type": "display_data",
          "data": {
            "image/png": "[encoded data removed]",
            "text/plain": [
              "<Figure size 720x432 with 1 Axes>"
            ]
          },
          "metadata": {
            "tags": []
          }
        }
      ]
    },
    {
      "cell_type": "code",
      "metadata": {
        "id": "phx2pdBA11Os"
      },
      "source": [
        ""
      ],
      "execution_count": null,
      "outputs": []
    }
  ]
}